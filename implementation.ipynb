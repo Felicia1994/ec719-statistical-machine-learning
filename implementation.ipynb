{
 "cells": [
  {
   "cell_type": "code",
   "execution_count": null,
   "metadata": {
    "collapsed": false
   },
   "outputs": [],
   "source": [
    "import scipy as sp\n",
    "import scipy.linalg as la\n",
    "import numpy as np\n",
    "import pickle\n",
    "import torch\n",
    "import torch.nn as nn\n",
    "import torch.nn.functional as F\n",
    "import torch.optim as optim\n",
    "from torch.autograd import Variable\n",
    "import torch.nn.init as init\n",
    "import h5py\n",
    "import matplotlib as mpl\n",
    "import matplotlib.pyplot as plt\n",
    "%matplotlib inline\n",
    "import seaborn as sns\n",
    "import matplotlib.patheffects as PathEffects"
   ]
  },
  {
   "cell_type": "code",
   "execution_count": null,
   "metadata": {
    "collapsed": false
   },
   "outputs": [],
   "source": [
    "import cvxpy as cp\n",
    "\n",
    "import skimage.measure\n",
    "\n",
    "from sklearn import preprocessing,svm,metrics\n",
    "from sklearn.manifold import TSNE\n",
    "from sklearn.cluster import KMeans, SpectralClustering, SpectralBiclustering, SpectralCoclustering\n",
    "from sklearn.discriminant_analysis import LinearDiscriminantAnalysis\n",
    "from sklearn.decomposition import NMF,PCA\n",
    "from sklearn.linear_model import LinearRegression,Lasso,Ridge\n",
    "from sklearn.manifold import TSNE\n",
    "from sklearn.metrics.cluster import adjusted_rand_score,adjusted_mutual_info_score\n",
    "from scipy.cluster.hierarchy import dendrogram, linkage, fcluster\n",
    "from scipy import stats\n",
    "from scipy.stats import entropy\n",
    "from scipy import signal\n",
    "import itertools"
   ]
  },
  {
   "cell_type": "code",
   "execution_count": null,
   "metadata": {
    "collapsed": false
   },
   "outputs": [],
   "source": [
    "from statsmodels.graphics.tsaplots import plot_acf, plot_pacf\n",
    "from statsmodels.tsa.ar_model import AR"
   ]
  },
  {
   "cell_type": "code",
   "execution_count": null,
   "metadata": {
    "collapsed": true
   },
   "outputs": [],
   "source": [
    "from mpl_toolkits.mplot3d import axes3d, Axes3D #<-- Note the capitalization! "
   ]
  },
  {
   "cell_type": "code",
   "execution_count": null,
   "metadata": {
    "collapsed": true
   },
   "outputs": [],
   "source": [
    "X = list(range(-100,100))\n",
    "Y = list(range(-100,100))"
   ]
  },
  {
   "cell_type": "code",
   "execution_count": null,
   "metadata": {
    "collapsed": false
   },
   "outputs": [],
   "source": [
    "X,Y = np.meshgrid(X,Y)"
   ]
  },
  {
   "cell_type": "code",
   "execution_count": null,
   "metadata": {
    "collapsed": true
   },
   "outputs": [],
   "source": [
    "Z = X**2-Y**2"
   ]
  },
  {
   "cell_type": "code",
   "execution_count": null,
   "metadata": {
    "collapsed": false
   },
   "outputs": [],
   "source": [
    "fig = plt.figure()\n",
    "ax = Axes3D(fig)\n",
    "surf = ax.plot_surface(X,Y,Z)\n",
    "#ax.set_zlim(-100, 100)\n",
    "#plt.axis('off')\n",
    "#plt.rc('text', usetex=True)\n",
    "plt.xlabel('x1')\n",
    "plt.ylabel('x2')\n",
    "#plt.legend('x_1^2-x_2^2')\n",
    "plt.savefig('saddle.png')\n",
    "plt.show()"
   ]
  },
  {
   "cell_type": "code",
   "execution_count": null,
   "metadata": {
    "collapsed": true
   },
   "outputs": [],
   "source": []
  },
  {
   "cell_type": "code",
   "execution_count": null,
   "metadata": {
    "collapsed": true
   },
   "outputs": [],
   "source": [
    "d = 16\n",
    "l = d\n",
    "Delta = 1\n",
    "c = 1\n",
    "epsilon = 0.05\n",
    "delta = 0.05\n",
    "rho = 2"
   ]
  },
  {
   "cell_type": "code",
   "execution_count": null,
   "metadata": {
    "collapsed": false
   },
   "outputs": [],
   "source": [
    "kai = 3*max(np.log(d*l*Delta/c/epsilon**2/delta),4)\n",
    "kai"
   ]
  },
  {
   "cell_type": "code",
   "execution_count": null,
   "metadata": {
    "collapsed": false
   },
   "outputs": [],
   "source": [
    "eta = c/l\n",
    "eta"
   ]
  },
  {
   "cell_type": "code",
   "execution_count": null,
   "metadata": {
    "collapsed": false
   },
   "outputs": [],
   "source": [
    "r = np.sqrt(c)*epsilon/kai**2/l\n",
    "r"
   ]
  },
  {
   "cell_type": "code",
   "execution_count": null,
   "metadata": {
    "collapsed": false
   },
   "outputs": [],
   "source": [
    "g_thres = np.sqrt(c)*epsilon/kai**2\n",
    "g_thres"
   ]
  },
  {
   "cell_type": "code",
   "execution_count": null,
   "metadata": {
    "collapsed": false
   },
   "outputs": [],
   "source": [
    "f_thres = c*np.sqrt(epsilon**3)/kai**3/np.sqrt(rho)\n",
    "f_thres"
   ]
  },
  {
   "cell_type": "code",
   "execution_count": null,
   "metadata": {
    "collapsed": false
   },
   "outputs": [],
   "source": [
    "t_thres = kai*l/c**2/np.sqrt(rho*epsilon)\n",
    "t_thres"
   ]
  },
  {
   "cell_type": "code",
   "execution_count": null,
   "metadata": {
    "collapsed": true
   },
   "outputs": [],
   "source": [
    "x = torch.FloatTensor(np.ones(d-1))\n",
    "x =  Variable(x, requires_grad=True)\n",
    "y = torch.FloatTensor(np.ones(1)*1e-20)\n",
    "y =  Variable(y, requires_grad=True)"
   ]
  },
  {
   "cell_type": "code",
   "execution_count": null,
   "metadata": {
    "collapsed": false,
    "scrolled": true
   },
   "outputs": [],
   "source": [
    "l_gd = []\n",
    "t_noise = -t_thres-1\n",
    "for i in range(200000):\n",
    "    loss = torch.sigmoid(torch.sum(x**2)-y**2)\n",
    "    loss.backward()\n",
    "\n",
    "    with torch.no_grad():\n",
    "        x = x - eta * x.grad\n",
    "        y = y - eta * y.grad\n",
    "    x.requires_grad = True\n",
    "    y.requires_grad = True\n",
    "\n",
    "    if i % 1 == 0:\n",
    "        #print(\"Epoch: {} loss {}\".format(i, loss.item()))\n",
    "        l_gd.append(loss.item())\n",
    "print(loss.item())"
   ]
  },
  {
   "cell_type": "code",
   "execution_count": null,
   "metadata": {
    "collapsed": true
   },
   "outputs": [],
   "source": [
    "x = torch.FloatTensor(np.ones(d-1))\n",
    "x =  Variable(x, requires_grad=True)\n",
    "y = torch.FloatTensor(np.ones(1)*1e-20)\n",
    "y =  Variable(y, requires_grad=True)"
   ]
  },
  {
   "cell_type": "code",
   "execution_count": null,
   "metadata": {
    "collapsed": false,
    "scrolled": true
   },
   "outputs": [],
   "source": [
    "l_pgd = []\n",
    "t_noise = -t_thres-1\n",
    "for i in range(200000):\n",
    "    loss = torch.sigmoid(torch.sum(x**2)-y**2)\n",
    "    loss.backward()\n",
    "    \n",
    "    if (torch.sum((x.grad)**2) + torch.sum((y.grad)**2)) <= g_thres**2 and i-t_noise > t_thres:\n",
    "        t_noise = i\n",
    "        temp1 = np.random.randn(d)\n",
    "        temp2 = np.random.rand(1)*r\n",
    "        temp = temp2*temp1/np.sqrt(np.sum(temp1**2))\n",
    "        x.grad += torch.FloatTensor(temp[:d-1])/eta\n",
    "        y.grad += torch.FloatTensor(temp[[-1]])/eta\n",
    "    with torch.no_grad():\n",
    "        x = x - eta * x.grad\n",
    "        y = y - eta * y.grad\n",
    "    x.requires_grad = True\n",
    "    y.requires_grad = True\n",
    "    \n",
    "    if i % 1 == 0:\n",
    "        #print(\"Epoch: {} loss {}\".format(i, loss.item()))\n",
    "        l_pgd.append(loss.item())"
   ]
  },
  {
   "cell_type": "code",
   "execution_count": null,
   "metadata": {
    "collapsed": false,
    "scrolled": false
   },
   "outputs": [],
   "source": [
    "plt.figure(figsize=(16,2))\n",
    "plt.plot(l_gd)\n",
    "plt.plot(l_pgd)\n",
    "plt.legend(['GD','PGD'])\n",
    "#plt.savefig('./Figures/d='+str(d)+'.png')"
   ]
  },
  {
   "cell_type": "code",
   "execution_count": null,
   "metadata": {
    "collapsed": true
   },
   "outputs": [],
   "source": []
  }
 ],
 "metadata": {
  "anaconda-cloud": {},
  "kernelspec": {
   "display_name": "Python [myanaconda3]",
   "language": "python",
   "name": "Python [myanaconda3]"
  },
  "language_info": {
   "codemirror_mode": {
    "name": "ipython",
    "version": 3
   },
   "file_extension": ".py",
   "mimetype": "text/x-python",
   "name": "python",
   "nbconvert_exporter": "python",
   "pygments_lexer": "ipython3",
   "version": "3.5.2"
  }
 },
 "nbformat": 4,
 "nbformat_minor": 0
}
